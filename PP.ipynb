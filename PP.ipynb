{
 "cells": [
  {
   "cell_type": "code",
   "execution_count": 84,
   "id": "0fc34dd5-a8d5-44d9-9a2e-c851d8f85b8a",
   "metadata": {},
   "outputs": [
    {
     "data": {
      "text/html": [
       "<div>\n",
       "<style scoped>\n",
       "    .dataframe tbody tr th:only-of-type {\n",
       "        vertical-align: middle;\n",
       "    }\n",
       "\n",
       "    .dataframe tbody tr th {\n",
       "        vertical-align: top;\n",
       "    }\n",
       "\n",
       "    .dataframe thead th {\n",
       "        text-align: right;\n",
       "    }\n",
       "</style>\n",
       "<table border=\"1\" class=\"dataframe\">\n",
       "  <thead>\n",
       "    <tr style=\"text-align: right;\">\n",
       "      <th></th>\n",
       "      <th>Date</th>\n",
       "      <th>Adj_Close</th>\n",
       "      <th>Close</th>\n",
       "      <th>High</th>\n",
       "      <th>Low</th>\n",
       "      <th>Open</th>\n",
       "      <th>Volume</th>\n",
       "    </tr>\n",
       "  </thead>\n",
       "  <tbody>\n",
       "    <tr>\n",
       "      <th>0</th>\n",
       "      <td>2006-05-31</td>\n",
       "      <td>19.954313</td>\n",
       "      <td>24.9625</td>\n",
       "      <td>24.9750</td>\n",
       "      <td>24.962500</td>\n",
       "      <td>24.9625</td>\n",
       "      <td>28000</td>\n",
       "    </tr>\n",
       "    <tr>\n",
       "      <th>1</th>\n",
       "      <td>2006-06-01</td>\n",
       "      <td>19.834412</td>\n",
       "      <td>24.8125</td>\n",
       "      <td>24.8125</td>\n",
       "      <td>24.812500</td>\n",
       "      <td>24.8125</td>\n",
       "      <td>1600</td>\n",
       "    </tr>\n",
       "    <tr>\n",
       "      <th>2</th>\n",
       "      <td>2006-06-02</td>\n",
       "      <td>20.214109</td>\n",
       "      <td>25.2875</td>\n",
       "      <td>25.2875</td>\n",
       "      <td>25.250000</td>\n",
       "      <td>25.2875</td>\n",
       "      <td>1600</td>\n",
       "    </tr>\n",
       "    <tr>\n",
       "      <th>3</th>\n",
       "      <td>2006-06-05</td>\n",
       "      <td>20.184134</td>\n",
       "      <td>25.2500</td>\n",
       "      <td>25.2500</td>\n",
       "      <td>25.250000</td>\n",
       "      <td>25.2500</td>\n",
       "      <td>2000</td>\n",
       "    </tr>\n",
       "    <tr>\n",
       "      <th>4</th>\n",
       "      <td>2006-06-06</td>\n",
       "      <td>19.534645</td>\n",
       "      <td>24.4375</td>\n",
       "      <td>24.6500</td>\n",
       "      <td>24.075001</td>\n",
       "      <td>24.4375</td>\n",
       "      <td>10400</td>\n",
       "    </tr>\n",
       "  </tbody>\n",
       "</table>\n",
       "</div>"
      ],
      "text/plain": [
       "         Date  Adj_Close    Close     High        Low     Open  Volume\n",
       "0  2006-05-31  19.954313  24.9625  24.9750  24.962500  24.9625   28000\n",
       "1  2006-06-01  19.834412  24.8125  24.8125  24.812500  24.8125    1600\n",
       "2  2006-06-02  20.214109  25.2875  25.2875  25.250000  25.2875    1600\n",
       "3  2006-06-05  20.184134  25.2500  25.2500  25.250000  25.2500    2000\n",
       "4  2006-06-06  19.534645  24.4375  24.6500  24.075001  24.4375   10400"
      ]
     },
     "execution_count": 84,
     "metadata": {},
     "output_type": "execute_result"
    }
   ],
   "source": [
    "#Importar librerías\n",
    "import numpy as np\n",
    "import pandas as pd\n",
    "import matplotlib.pyplot as plt\n",
    "import datetime\n",
    "import seaborn as sns\n",
    "from sklearn.linear_model import LinearRegression\n",
    "from sklearn.model_selection import train_test_split\n",
    "from sklearn.metrics import r2_score, mean_absolute_error, mean_squared_error\n",
    "\n",
    "#lectura y carga de datos del dataset\n",
    "data = pd.read_csv(\"Adidas_Data.csv\")\n",
    "#Veamos las primeras y ultimas 5 filas del dataset para observar su estructura y variables\n",
    "data.head() "
   ]
  },
  {
   "cell_type": "code",
   "execution_count": 2,
   "id": "ef35e7dc-a5b0-4d9b-a462-02f11334526d",
   "metadata": {},
   "outputs": [
    {
     "data": {
      "text/html": [
       "<div>\n",
       "<style scoped>\n",
       "    .dataframe tbody tr th:only-of-type {\n",
       "        vertical-align: middle;\n",
       "    }\n",
       "\n",
       "    .dataframe tbody tr th {\n",
       "        vertical-align: top;\n",
       "    }\n",
       "\n",
       "    .dataframe thead th {\n",
       "        text-align: right;\n",
       "    }\n",
       "</style>\n",
       "<table border=\"1\" class=\"dataframe\">\n",
       "  <thead>\n",
       "    <tr style=\"text-align: right;\">\n",
       "      <th></th>\n",
       "      <th>Date</th>\n",
       "      <th>Adj_Close</th>\n",
       "      <th>Close</th>\n",
       "      <th>High</th>\n",
       "      <th>Low</th>\n",
       "      <th>Open</th>\n",
       "      <th>Volume</th>\n",
       "    </tr>\n",
       "  </thead>\n",
       "  <tbody>\n",
       "    <tr>\n",
       "      <th>4674</th>\n",
       "      <td>2024-12-24</td>\n",
       "      <td>122.980003</td>\n",
       "      <td>122.980003</td>\n",
       "      <td>124.580002</td>\n",
       "      <td>119.279999</td>\n",
       "      <td>121.930000</td>\n",
       "      <td>19600</td>\n",
       "    </tr>\n",
       "    <tr>\n",
       "      <th>4675</th>\n",
       "      <td>2024-12-26</td>\n",
       "      <td>124.099998</td>\n",
       "      <td>124.099998</td>\n",
       "      <td>124.839996</td>\n",
       "      <td>121.699997</td>\n",
       "      <td>122.239998</td>\n",
       "      <td>19400</td>\n",
       "    </tr>\n",
       "    <tr>\n",
       "      <th>4676</th>\n",
       "      <td>2024-12-27</td>\n",
       "      <td>122.709999</td>\n",
       "      <td>122.709999</td>\n",
       "      <td>123.680000</td>\n",
       "      <td>122.330002</td>\n",
       "      <td>123.370003</td>\n",
       "      <td>124000</td>\n",
       "    </tr>\n",
       "    <tr>\n",
       "      <th>4677</th>\n",
       "      <td>2024-12-30</td>\n",
       "      <td>122.389999</td>\n",
       "      <td>122.389999</td>\n",
       "      <td>124.050003</td>\n",
       "      <td>121.080002</td>\n",
       "      <td>121.750000</td>\n",
       "      <td>66500</td>\n",
       "    </tr>\n",
       "    <tr>\n",
       "      <th>4678</th>\n",
       "      <td>2024-12-31</td>\n",
       "      <td>121.769997</td>\n",
       "      <td>121.769997</td>\n",
       "      <td>122.930000</td>\n",
       "      <td>120.900002</td>\n",
       "      <td>122.690002</td>\n",
       "      <td>27300</td>\n",
       "    </tr>\n",
       "  </tbody>\n",
       "</table>\n",
       "</div>"
      ],
      "text/plain": [
       "            Date   Adj_Close       Close        High         Low        Open  \\\n",
       "4674  2024-12-24  122.980003  122.980003  124.580002  119.279999  121.930000   \n",
       "4675  2024-12-26  124.099998  124.099998  124.839996  121.699997  122.239998   \n",
       "4676  2024-12-27  122.709999  122.709999  123.680000  122.330002  123.370003   \n",
       "4677  2024-12-30  122.389999  122.389999  124.050003  121.080002  121.750000   \n",
       "4678  2024-12-31  121.769997  121.769997  122.930000  120.900002  122.690002   \n",
       "\n",
       "      Volume  \n",
       "4674   19600  \n",
       "4675   19400  \n",
       "4676  124000  \n",
       "4677   66500  \n",
       "4678   27300  "
      ]
     },
     "execution_count": 2,
     "metadata": {},
     "output_type": "execute_result"
    }
   ],
   "source": [
    "data.tail()"
   ]
  },
  {
   "cell_type": "code",
   "execution_count": 3,
   "id": "449bb480-648c-4995-8327-940c1c956211",
   "metadata": {},
   "outputs": [
    {
     "data": {
      "text/plain": [
       "Date          object\n",
       "Adj_Close    float64\n",
       "Close        float64\n",
       "High         float64\n",
       "Low          float64\n",
       "Open         float64\n",
       "Volume         int64\n",
       "dtype: object"
      ]
     },
     "execution_count": 3,
     "metadata": {},
     "output_type": "execute_result"
    }
   ],
   "source": [
    "#A continuación, se observará el tipo de datos correspondiente a cada una de las variables\n",
    "data.dtypes"
   ]
  },
  {
   "cell_type": "code",
   "execution_count": 4,
   "id": "2581bdbd-48e9-438f-bd46-3a5b0c041348",
   "metadata": {},
   "outputs": [
    {
     "data": {
      "text/html": [
       "<div>\n",
       "<style scoped>\n",
       "    .dataframe tbody tr th:only-of-type {\n",
       "        vertical-align: middle;\n",
       "    }\n",
       "\n",
       "    .dataframe tbody tr th {\n",
       "        vertical-align: top;\n",
       "    }\n",
       "\n",
       "    .dataframe thead th {\n",
       "        text-align: right;\n",
       "    }\n",
       "</style>\n",
       "<table border=\"1\" class=\"dataframe\">\n",
       "  <thead>\n",
       "    <tr style=\"text-align: right;\">\n",
       "      <th></th>\n",
       "      <th>Date</th>\n",
       "      <th>Adj_Close</th>\n",
       "      <th>Close</th>\n",
       "      <th>High</th>\n",
       "      <th>Low</th>\n",
       "      <th>Open</th>\n",
       "      <th>Volume</th>\n",
       "    </tr>\n",
       "  </thead>\n",
       "  <tbody>\n",
       "    <tr>\n",
       "      <th>0</th>\n",
       "      <td>False</td>\n",
       "      <td>False</td>\n",
       "      <td>False</td>\n",
       "      <td>False</td>\n",
       "      <td>False</td>\n",
       "      <td>False</td>\n",
       "      <td>False</td>\n",
       "    </tr>\n",
       "    <tr>\n",
       "      <th>1</th>\n",
       "      <td>False</td>\n",
       "      <td>False</td>\n",
       "      <td>False</td>\n",
       "      <td>False</td>\n",
       "      <td>False</td>\n",
       "      <td>False</td>\n",
       "      <td>False</td>\n",
       "    </tr>\n",
       "    <tr>\n",
       "      <th>2</th>\n",
       "      <td>False</td>\n",
       "      <td>False</td>\n",
       "      <td>False</td>\n",
       "      <td>False</td>\n",
       "      <td>False</td>\n",
       "      <td>False</td>\n",
       "      <td>False</td>\n",
       "    </tr>\n",
       "    <tr>\n",
       "      <th>3</th>\n",
       "      <td>False</td>\n",
       "      <td>False</td>\n",
       "      <td>False</td>\n",
       "      <td>False</td>\n",
       "      <td>False</td>\n",
       "      <td>False</td>\n",
       "      <td>False</td>\n",
       "    </tr>\n",
       "    <tr>\n",
       "      <th>4</th>\n",
       "      <td>False</td>\n",
       "      <td>False</td>\n",
       "      <td>False</td>\n",
       "      <td>False</td>\n",
       "      <td>False</td>\n",
       "      <td>False</td>\n",
       "      <td>False</td>\n",
       "    </tr>\n",
       "    <tr>\n",
       "      <th>...</th>\n",
       "      <td>...</td>\n",
       "      <td>...</td>\n",
       "      <td>...</td>\n",
       "      <td>...</td>\n",
       "      <td>...</td>\n",
       "      <td>...</td>\n",
       "      <td>...</td>\n",
       "    </tr>\n",
       "    <tr>\n",
       "      <th>4674</th>\n",
       "      <td>False</td>\n",
       "      <td>False</td>\n",
       "      <td>False</td>\n",
       "      <td>False</td>\n",
       "      <td>False</td>\n",
       "      <td>False</td>\n",
       "      <td>False</td>\n",
       "    </tr>\n",
       "    <tr>\n",
       "      <th>4675</th>\n",
       "      <td>False</td>\n",
       "      <td>False</td>\n",
       "      <td>False</td>\n",
       "      <td>False</td>\n",
       "      <td>False</td>\n",
       "      <td>False</td>\n",
       "      <td>False</td>\n",
       "    </tr>\n",
       "    <tr>\n",
       "      <th>4676</th>\n",
       "      <td>False</td>\n",
       "      <td>False</td>\n",
       "      <td>False</td>\n",
       "      <td>False</td>\n",
       "      <td>False</td>\n",
       "      <td>False</td>\n",
       "      <td>False</td>\n",
       "    </tr>\n",
       "    <tr>\n",
       "      <th>4677</th>\n",
       "      <td>False</td>\n",
       "      <td>False</td>\n",
       "      <td>False</td>\n",
       "      <td>False</td>\n",
       "      <td>False</td>\n",
       "      <td>False</td>\n",
       "      <td>False</td>\n",
       "    </tr>\n",
       "    <tr>\n",
       "      <th>4678</th>\n",
       "      <td>False</td>\n",
       "      <td>False</td>\n",
       "      <td>False</td>\n",
       "      <td>False</td>\n",
       "      <td>False</td>\n",
       "      <td>False</td>\n",
       "      <td>False</td>\n",
       "    </tr>\n",
       "  </tbody>\n",
       "</table>\n",
       "<p>4679 rows × 7 columns</p>\n",
       "</div>"
      ],
      "text/plain": [
       "       Date  Adj_Close  Close   High    Low   Open  Volume\n",
       "0     False      False  False  False  False  False   False\n",
       "1     False      False  False  False  False  False   False\n",
       "2     False      False  False  False  False  False   False\n",
       "3     False      False  False  False  False  False   False\n",
       "4     False      False  False  False  False  False   False\n",
       "...     ...        ...    ...    ...    ...    ...     ...\n",
       "4674  False      False  False  False  False  False   False\n",
       "4675  False      False  False  False  False  False   False\n",
       "4676  False      False  False  False  False  False   False\n",
       "4677  False      False  False  False  False  False   False\n",
       "4678  False      False  False  False  False  False   False\n",
       "\n",
       "[4679 rows x 7 columns]"
      ]
     },
     "execution_count": 4,
     "metadata": {},
     "output_type": "execute_result"
    }
   ],
   "source": [
    "#Para ver si hay datos faltantes se utiliza la función isna() que categoriza como valor true a las celdas con datos NA\n",
    "data.isna()"
   ]
  },
  {
   "cell_type": "code",
   "execution_count": 5,
   "id": "664fd9f4-cdd9-4b94-9a0a-cfb9a4967816",
   "metadata": {
    "scrolled": true
   },
   "outputs": [
    {
     "data": {
      "text/plain": [
       "Date         0\n",
       "Adj_Close    0\n",
       "Close        0\n",
       "High         0\n",
       "Low          0\n",
       "Open         0\n",
       "Volume       0\n",
       "dtype: int64"
      ]
     },
     "execution_count": 5,
     "metadata": {},
     "output_type": "execute_result"
    }
   ],
   "source": [
    "#Para ver que sucede en todo el dataset se suman los valores true (faltantes) de toda la tabla\n",
    "data.isna().sum()"
   ]
  },
  {
   "cell_type": "code",
   "execution_count": 6,
   "id": "be83f316-148a-4688-8667-cc00947583a8",
   "metadata": {},
   "outputs": [
    {
     "data": {
      "text/plain": [
       "Date         datetime64[ns]\n",
       "Adj_Close           float64\n",
       "Close               float64\n",
       "High                float64\n",
       "Low                 float64\n",
       "Open                float64\n",
       "Volume                int64\n",
       "dtype: object"
      ]
     },
     "execution_count": 6,
     "metadata": {},
     "output_type": "execute_result"
    }
   ],
   "source": [
    "data[\"Date\"] = pd.to_datetime(data[\"Date\"])\n",
    "data.dtypes"
   ]
  },
  {
   "cell_type": "code",
   "execution_count": 7,
   "id": "6f8dd0ed-9166-413f-82dc-d996e92e9485",
   "metadata": {
    "scrolled": true
   },
   "outputs": [
    {
     "data": {
      "text/html": [
       "<div>\n",
       "<style scoped>\n",
       "    .dataframe tbody tr th:only-of-type {\n",
       "        vertical-align: middle;\n",
       "    }\n",
       "\n",
       "    .dataframe tbody tr th {\n",
       "        vertical-align: top;\n",
       "    }\n",
       "\n",
       "    .dataframe thead th {\n",
       "        text-align: right;\n",
       "    }\n",
       "</style>\n",
       "<table border=\"1\" class=\"dataframe\">\n",
       "  <thead>\n",
       "    <tr style=\"text-align: right;\">\n",
       "      <th></th>\n",
       "      <th>Date</th>\n",
       "      <th>Adj_Close</th>\n",
       "      <th>Close</th>\n",
       "      <th>High</th>\n",
       "      <th>Low</th>\n",
       "      <th>Open</th>\n",
       "      <th>Volume</th>\n",
       "      <th>Adj_Close_Standard</th>\n",
       "      <th>Open_Standard</th>\n",
       "    </tr>\n",
       "  </thead>\n",
       "  <tbody>\n",
       "    <tr>\n",
       "      <th>0</th>\n",
       "      <td>2006-05-31</td>\n",
       "      <td>19.954313</td>\n",
       "      <td>24.962500</td>\n",
       "      <td>24.975000</td>\n",
       "      <td>24.962500</td>\n",
       "      <td>24.962500</td>\n",
       "      <td>28000</td>\n",
       "      <td>-1.044893</td>\n",
       "      <td>-1.036651</td>\n",
       "    </tr>\n",
       "    <tr>\n",
       "      <th>1</th>\n",
       "      <td>2006-06-01</td>\n",
       "      <td>19.834412</td>\n",
       "      <td>24.812500</td>\n",
       "      <td>24.812500</td>\n",
       "      <td>24.812500</td>\n",
       "      <td>24.812500</td>\n",
       "      <td>1600</td>\n",
       "      <td>-1.047431</td>\n",
       "      <td>-1.039832</td>\n",
       "    </tr>\n",
       "    <tr>\n",
       "      <th>2</th>\n",
       "      <td>2006-06-02</td>\n",
       "      <td>20.214109</td>\n",
       "      <td>25.287500</td>\n",
       "      <td>25.287500</td>\n",
       "      <td>25.250000</td>\n",
       "      <td>25.287500</td>\n",
       "      <td>1600</td>\n",
       "      <td>-1.039393</td>\n",
       "      <td>-1.029760</td>\n",
       "    </tr>\n",
       "    <tr>\n",
       "      <th>3</th>\n",
       "      <td>2006-06-05</td>\n",
       "      <td>20.184134</td>\n",
       "      <td>25.250000</td>\n",
       "      <td>25.250000</td>\n",
       "      <td>25.250000</td>\n",
       "      <td>25.250000</td>\n",
       "      <td>2000</td>\n",
       "      <td>-1.040028</td>\n",
       "      <td>-1.030555</td>\n",
       "    </tr>\n",
       "    <tr>\n",
       "      <th>4</th>\n",
       "      <td>2006-06-06</td>\n",
       "      <td>19.534645</td>\n",
       "      <td>24.437500</td>\n",
       "      <td>24.650000</td>\n",
       "      <td>24.075001</td>\n",
       "      <td>24.437500</td>\n",
       "      <td>10400</td>\n",
       "      <td>-1.053777</td>\n",
       "      <td>-1.047784</td>\n",
       "    </tr>\n",
       "    <tr>\n",
       "      <th>...</th>\n",
       "      <td>...</td>\n",
       "      <td>...</td>\n",
       "      <td>...</td>\n",
       "      <td>...</td>\n",
       "      <td>...</td>\n",
       "      <td>...</td>\n",
       "      <td>...</td>\n",
       "      <td>...</td>\n",
       "      <td>...</td>\n",
       "    </tr>\n",
       "    <tr>\n",
       "      <th>4674</th>\n",
       "      <td>2024-12-24</td>\n",
       "      <td>122.980003</td>\n",
       "      <td>122.980003</td>\n",
       "      <td>124.580002</td>\n",
       "      <td>119.279999</td>\n",
       "      <td>121.930000</td>\n",
       "      <td>19600</td>\n",
       "      <td>1.136175</td>\n",
       "      <td>1.019567</td>\n",
       "    </tr>\n",
       "    <tr>\n",
       "      <th>4675</th>\n",
       "      <td>2024-12-26</td>\n",
       "      <td>124.099998</td>\n",
       "      <td>124.099998</td>\n",
       "      <td>124.839996</td>\n",
       "      <td>121.699997</td>\n",
       "      <td>122.239998</td>\n",
       "      <td>19400</td>\n",
       "      <td>1.159885</td>\n",
       "      <td>1.026140</td>\n",
       "    </tr>\n",
       "    <tr>\n",
       "      <th>4676</th>\n",
       "      <td>2024-12-27</td>\n",
       "      <td>122.709999</td>\n",
       "      <td>122.709999</td>\n",
       "      <td>123.680000</td>\n",
       "      <td>122.330002</td>\n",
       "      <td>123.370003</td>\n",
       "      <td>124000</td>\n",
       "      <td>1.130459</td>\n",
       "      <td>1.050102</td>\n",
       "    </tr>\n",
       "    <tr>\n",
       "      <th>4677</th>\n",
       "      <td>2024-12-30</td>\n",
       "      <td>122.389999</td>\n",
       "      <td>122.389999</td>\n",
       "      <td>124.050003</td>\n",
       "      <td>121.080002</td>\n",
       "      <td>121.750000</td>\n",
       "      <td>66500</td>\n",
       "      <td>1.123684</td>\n",
       "      <td>1.015750</td>\n",
       "    </tr>\n",
       "    <tr>\n",
       "      <th>4678</th>\n",
       "      <td>2024-12-31</td>\n",
       "      <td>121.769997</td>\n",
       "      <td>121.769997</td>\n",
       "      <td>122.930000</td>\n",
       "      <td>120.900002</td>\n",
       "      <td>122.690002</td>\n",
       "      <td>27300</td>\n",
       "      <td>1.110559</td>\n",
       "      <td>1.035683</td>\n",
       "    </tr>\n",
       "  </tbody>\n",
       "</table>\n",
       "<p>4679 rows × 9 columns</p>\n",
       "</div>"
      ],
      "text/plain": [
       "           Date   Adj_Close       Close        High         Low        Open  \\\n",
       "0    2006-05-31   19.954313   24.962500   24.975000   24.962500   24.962500   \n",
       "1    2006-06-01   19.834412   24.812500   24.812500   24.812500   24.812500   \n",
       "2    2006-06-02   20.214109   25.287500   25.287500   25.250000   25.287500   \n",
       "3    2006-06-05   20.184134   25.250000   25.250000   25.250000   25.250000   \n",
       "4    2006-06-06   19.534645   24.437500   24.650000   24.075001   24.437500   \n",
       "...         ...         ...         ...         ...         ...         ...   \n",
       "4674 2024-12-24  122.980003  122.980003  124.580002  119.279999  121.930000   \n",
       "4675 2024-12-26  124.099998  124.099998  124.839996  121.699997  122.239998   \n",
       "4676 2024-12-27  122.709999  122.709999  123.680000  122.330002  123.370003   \n",
       "4677 2024-12-30  122.389999  122.389999  124.050003  121.080002  121.750000   \n",
       "4678 2024-12-31  121.769997  121.769997  122.930000  120.900002  122.690002   \n",
       "\n",
       "      Volume  Adj_Close_Standard  Open_Standard  \n",
       "0      28000           -1.044893      -1.036651  \n",
       "1       1600           -1.047431      -1.039832  \n",
       "2       1600           -1.039393      -1.029760  \n",
       "3       2000           -1.040028      -1.030555  \n",
       "4      10400           -1.053777      -1.047784  \n",
       "...      ...                 ...            ...  \n",
       "4674   19600            1.136175       1.019567  \n",
       "4675   19400            1.159885       1.026140  \n",
       "4676  124000            1.130459       1.050102  \n",
       "4677   66500            1.123684       1.015750  \n",
       "4678   27300            1.110559       1.035683  \n",
       "\n",
       "[4679 rows x 9 columns]"
      ]
     },
     "execution_count": 7,
     "metadata": {},
     "output_type": "execute_result"
    }
   ],
   "source": [
    "#se procedera a identificar Outliers en el precio diario de apertura y cierre de las acciones, \n",
    "#que podrian afectar de manera negativa a la predicción futura. El método escogido para\n",
    "#encontrar los outliers es el de cálculo de la variable estandarizada\n",
    "\n",
    "data[\"Adj_Close_Standard\"] = (data[\"Adj_Close\"] - np.mean(data[\"Adj_Close\"])) / np.std(data[\"Adj_Close\"])\n",
    "data[\"Open_Standard\"] = (data[\"Open\"] - np.mean(data[\"Open\"])) / np.std(data[\"Open\"])\n",
    "data"
   ]
  },
  {
   "cell_type": "code",
   "execution_count": 8,
   "id": "e5fb097c-a1cc-4d1e-b519-ece8d05bdb53",
   "metadata": {},
   "outputs": [
    {
     "data": {
      "text/html": [
       "<div>\n",
       "<style scoped>\n",
       "    .dataframe tbody tr th:only-of-type {\n",
       "        vertical-align: middle;\n",
       "    }\n",
       "\n",
       "    .dataframe tbody tr th {\n",
       "        vertical-align: top;\n",
       "    }\n",
       "\n",
       "    .dataframe thead th {\n",
       "        text-align: right;\n",
       "    }\n",
       "</style>\n",
       "<table border=\"1\" class=\"dataframe\">\n",
       "  <thead>\n",
       "    <tr style=\"text-align: right;\">\n",
       "      <th></th>\n",
       "      <th>Date</th>\n",
       "      <th>Adj_Close</th>\n",
       "      <th>Close</th>\n",
       "      <th>High</th>\n",
       "      <th>Low</th>\n",
       "      <th>Open</th>\n",
       "      <th>Volume</th>\n",
       "      <th>Adj_Close_Standard</th>\n",
       "      <th>Open_Standard</th>\n",
       "    </tr>\n",
       "  </thead>\n",
       "  <tbody>\n",
       "  </tbody>\n",
       "</table>\n",
       "</div>"
      ],
      "text/plain": [
       "Empty DataFrame\n",
       "Columns: [Date, Adj_Close, Close, High, Low, Open, Volume, Adj_Close_Standard, Open_Standard]\n",
       "Index: []"
      ]
     },
     "execution_count": 8,
     "metadata": {},
     "output_type": "execute_result"
    }
   ],
   "source": [
    "Out_Close = data[data[\"Adj_Close_Standard\"]>=3]\n",
    "Out_Close"
   ]
  },
  {
   "cell_type": "code",
   "execution_count": 9,
   "id": "da981c2a-f8d9-4228-ba69-dd040c944733",
   "metadata": {
    "scrolled": true
   },
   "outputs": [
    {
     "data": {
      "text/html": [
       "<div>\n",
       "<style scoped>\n",
       "    .dataframe tbody tr th:only-of-type {\n",
       "        vertical-align: middle;\n",
       "    }\n",
       "\n",
       "    .dataframe tbody tr th {\n",
       "        vertical-align: top;\n",
       "    }\n",
       "\n",
       "    .dataframe thead th {\n",
       "        text-align: right;\n",
       "    }\n",
       "</style>\n",
       "<table border=\"1\" class=\"dataframe\">\n",
       "  <thead>\n",
       "    <tr style=\"text-align: right;\">\n",
       "      <th></th>\n",
       "      <th>Date</th>\n",
       "      <th>Adj_Close</th>\n",
       "      <th>Close</th>\n",
       "      <th>High</th>\n",
       "      <th>Low</th>\n",
       "      <th>Open</th>\n",
       "      <th>Volume</th>\n",
       "      <th>Adj_Close_Standard</th>\n",
       "      <th>Open_Standard</th>\n",
       "    </tr>\n",
       "  </thead>\n",
       "  <tbody>\n",
       "  </tbody>\n",
       "</table>\n",
       "</div>"
      ],
      "text/plain": [
       "Empty DataFrame\n",
       "Columns: [Date, Adj_Close, Close, High, Low, Open, Volume, Adj_Close_Standard, Open_Standard]\n",
       "Index: []"
      ]
     },
     "execution_count": 9,
     "metadata": {},
     "output_type": "execute_result"
    }
   ],
   "source": [
    "Out_Open = data[data[\"Open_Standard\"]>=3]\n",
    "Out_Open"
   ]
  },
  {
   "cell_type": "code",
   "execution_count": 10,
   "id": "8bc72770-cd40-49ff-b49d-643b2f7d54ac",
   "metadata": {},
   "outputs": [
    {
     "data": {
      "text/plain": [
       "Text(0, 0.5, 'Adj_Close[USD]')"
      ]
     },
     "execution_count": 10,
     "metadata": {},
     "output_type": "execute_result"
    },
    {
     "data": {
      "image/png": "[encoded data removed]",
      "text/plain": [
       "<Figure size 640x480 with 1 Axes>"
      ]
     },
     "metadata": {},
     "output_type": "display_data"
    }
   ],
   "source": [
    "#Elaboración de un gráfico de linea para observar la evolucion en el tiempo del precio de\n",
    "#cierre de las acciones de Adidas\n",
    "\n",
    "data.plot(x = \"Date\", y = \"Adj_Close\", kind = \"line\")\n",
    "plt.xlabel(\"Date[Year]\")\n",
    "plt.ylabel(\"Adj_Close[USD]\")"
   ]
  },
  {
   "cell_type": "code",
   "execution_count": 11,
   "id": "9a6d57c5-d304-4e4e-b3e0-aa1921bf1de3",
   "metadata": {},
   "outputs": [
    {
     "data": {
      "text/plain": [
       "Date                  datetime64[ns]\n",
       "Adj_Close                    float64\n",
       "Close                        float64\n",
       "High                         float64\n",
       "Low                          float64\n",
       "Open                         float64\n",
       "Volume                         int64\n",
       "Adj_Close_Standard           float64\n",
       "Open_Standard                float64\n",
       "Year                           int32\n",
       "dtype: object"
      ]
     },
     "execution_count": 11,
     "metadata": {},
     "output_type": "execute_result"
    }
   ],
   "source": [
    "#Dado que por año hay alrededor de 365 datos de cada variable, se procedió a extraer el año de cada una de las fechas \n",
    "#presentes en el dataset, para luego agrupar los valores de cierre ajustados (Adj_Close)\n",
    "#correspondientes a un mismo año, calcular el valor medio de esa variablepara cada año y luego representar \n",
    "#el valor medio de cierre de cada año en un gràfico de lineas, para compararlo con la visualización\n",
    "#antes construida.\n",
    "data[\"Year\"] = data[\"Date\"].dt.year\n",
    "data.dtypes"
   ]
  },
  {
   "cell_type": "code",
   "execution_count": 12,
   "id": "3b1a46fe-76fd-4b11-bfcf-2c17dce575d6",
   "metadata": {},
   "outputs": [
    {
     "data": {
      "text/html": [
       "<div>\n",
       "<style scoped>\n",
       "    .dataframe tbody tr th:only-of-type {\n",
       "        vertical-align: middle;\n",
       "    }\n",
       "\n",
       "    .dataframe tbody tr th {\n",
       "        vertical-align: top;\n",
       "    }\n",
       "\n",
       "    .dataframe thead th {\n",
       "        text-align: right;\n",
       "    }\n",
       "</style>\n",
       "<table border=\"1\" class=\"dataframe\">\n",
       "  <thead>\n",
       "    <tr style=\"text-align: right;\">\n",
       "      <th></th>\n",
       "      <th>Year</th>\n",
       "      <th>Adj_Close</th>\n",
       "    </tr>\n",
       "  </thead>\n",
       "  <tbody>\n",
       "    <tr>\n",
       "      <th>0</th>\n",
       "      <td>2006</td>\n",
       "      <td>19.142993</td>\n",
       "    </tr>\n",
       "    <tr>\n",
       "      <th>1</th>\n",
       "      <td>2007</td>\n",
       "      <td>23.844187</td>\n",
       "    </tr>\n",
       "    <tr>\n",
       "      <th>2</th>\n",
       "      <td>2008</td>\n",
       "      <td>22.957393</td>\n",
       "    </tr>\n",
       "    <tr>\n",
       "      <th>3</th>\n",
       "      <td>2009</td>\n",
       "      <td>17.514338</td>\n",
       "    </tr>\n",
       "    <tr>\n",
       "      <th>4</th>\n",
       "      <td>2010</td>\n",
       "      <td>23.573541</td>\n",
       "    </tr>\n",
       "    <tr>\n",
       "      <th>5</th>\n",
       "      <td>2011</td>\n",
       "      <td>28.951881</td>\n",
       "    </tr>\n",
       "    <tr>\n",
       "      <th>6</th>\n",
       "      <td>2012</td>\n",
       "      <td>33.804415</td>\n",
       "    </tr>\n",
       "    <tr>\n",
       "      <th>7</th>\n",
       "      <td>2013</td>\n",
       "      <td>46.970536</td>\n",
       "    </tr>\n",
       "    <tr>\n",
       "      <th>8</th>\n",
       "      <td>2014</td>\n",
       "      <td>41.988622</td>\n",
       "    </tr>\n",
       "    <tr>\n",
       "      <th>9</th>\n",
       "      <td>2015</td>\n",
       "      <td>36.840054</td>\n",
       "    </tr>\n",
       "    <tr>\n",
       "      <th>10</th>\n",
       "      <td>2016</td>\n",
       "      <td>63.855397</td>\n",
       "    </tr>\n",
       "    <tr>\n",
       "      <th>11</th>\n",
       "      <td>2017</td>\n",
       "      <td>93.395068</td>\n",
       "    </tr>\n",
       "    <tr>\n",
       "      <th>12</th>\n",
       "      <td>2018</td>\n",
       "      <td>108.567306</td>\n",
       "    </tr>\n",
       "    <tr>\n",
       "      <th>13</th>\n",
       "      <td>2019</td>\n",
       "      <td>135.146240</td>\n",
       "    </tr>\n",
       "    <tr>\n",
       "      <th>14</th>\n",
       "      <td>2020</td>\n",
       "      <td>140.834183</td>\n",
       "    </tr>\n",
       "    <tr>\n",
       "      <th>15</th>\n",
       "      <td>2021</td>\n",
       "      <td>163.955271</td>\n",
       "    </tr>\n",
       "    <tr>\n",
       "      <th>16</th>\n",
       "      <td>2022</td>\n",
       "      <td>89.790041</td>\n",
       "    </tr>\n",
       "    <tr>\n",
       "      <th>17</th>\n",
       "      <td>2023</td>\n",
       "      <td>89.462564</td>\n",
       "    </tr>\n",
       "    <tr>\n",
       "      <th>18</th>\n",
       "      <td>2024</td>\n",
       "      <td>115.744779</td>\n",
       "    </tr>\n",
       "  </tbody>\n",
       "</table>\n",
       "</div>"
      ],
      "text/plain": [
       "    Year   Adj_Close\n",
       "0   2006   19.142993\n",
       "1   2007   23.844187\n",
       "2   2008   22.957393\n",
       "3   2009   17.514338\n",
       "4   2010   23.573541\n",
       "5   2011   28.951881\n",
       "6   2012   33.804415\n",
       "7   2013   46.970536\n",
       "8   2014   41.988622\n",
       "9   2015   36.840054\n",
       "10  2016   63.855397\n",
       "11  2017   93.395068\n",
       "12  2018  108.567306\n",
       "13  2019  135.146240\n",
       "14  2020  140.834183\n",
       "15  2021  163.955271\n",
       "16  2022   89.790041\n",
       "17  2023   89.462564\n",
       "18  2024  115.744779"
      ]
     },
     "execution_count": 12,
     "metadata": {},
     "output_type": "execute_result"
    }
   ],
   "source": [
    "Annual_Adj_Close = data.groupby([\"Year\"], as_index = False ).agg({\"Adj_Close\":\"mean\"})\n",
    "Annual_Adj_Close"
   ]
  },
  {
   "cell_type": "code",
   "execution_count": 13,
   "id": "5309f0d9-7991-4920-b8c1-2f95d14cb4ad",
   "metadata": {},
   "outputs": [
    {
     "data": {
      "text/plain": [
       "<Axes: xlabel='Year'>"
      ]
     },
     "execution_count": 13,
     "metadata": {},
     "output_type": "execute_result"
    },
    {
     "data": {
      "image/png": "[encoded data removed]",
      "text/plain": [
       "<Figure size 640x480 with 1 Axes>"
      ]
     },
     "metadata": {},
     "output_type": "display_data"
    }
   ],
   "source": [
    "Annual_Adj_Close.plot(x = \"Year\", y = \"Adj_Close\", kind = \"line\")"
   ]
  },
  {
   "cell_type": "code",
   "execution_count": 76,
   "id": "666dd79d-5fed-46ba-8ef2-d8ac88aae868",
   "metadata": {},
   "outputs": [],
   "source": [
    "#Crear variable objetivo a corto/mediano plazo\n",
    "data[\"Adj_Close_Prediction\"] = data[\"Adj_Close\"].shift(-5)  # Precio de cierre ajustado 5 días a futuro\n",
    "data = data.dropna()"
   ]
  },
  {
   "cell_type": "code",
   "execution_count": 77,
   "id": "3cbea838-54a7-4506-93af-14e1b7fc10b0",
   "metadata": {},
   "outputs": [],
   "source": [
    "correlation_matrix = data[['Adj_Close', 'Close', 'High', 'Low', 'Open', 'Volume', 'Adj_Close_Prediction']].corr()"
   ]
  },
  {
   "cell_type": "code",
   "execution_count": 78,
   "id": "366e8416-fb7d-42ca-b09b-5fc6e5a580f2",
   "metadata": {},
   "outputs": [
    {
     "data": {
      "text/plain": [
       "Adj_Close_Prediction    1.000000\n",
       "Adj_Close               0.996805\n",
       "High                    0.995930\n",
       "Close                   0.995891\n",
       "Open                    0.995734\n",
       "Low                     0.995718\n",
       "Volume                  0.051205\n",
       "Name: Adj_Close_Prediction, dtype: float64"
      ]
     },
     "execution_count": 78,
     "metadata": {},
     "output_type": "execute_result"
    }
   ],
   "source": [
    "correlation_matrix['Adj_Close_Prediction'].sort_values(ascending=False)"
   ]
  },
  {
   "cell_type": "code",
   "execution_count": 79,
   "id": "4a04a31b-511e-4315-a199-cdcda026ebdd",
   "metadata": {},
   "outputs": [],
   "source": [
    "#Separacion de set de datos en entrenamiento y test\n",
    "X = data[['Adj_Close', 'High', 'Close', 'Open', 'Low']]\n",
    "y = data['Adj_Close_Prediction']\n",
    "\n",
    "from sklearn.model_selection import train_test_split\n",
    "\n",
    "X_train, X_test, y_train, y_test = train_test_split(\n",
    "    X, y, test_size=0.2, shuffle=False  # shuffle=False respeta el orden temporal de la serie\n",
    ")"
   ]
  },
  {
   "cell_type": "code",
   "execution_count": 80,
   "id": "0f3d1625-cf75-4ea9-b4d7-ac4fdd1f06ab",
   "metadata": {},
   "outputs": [],
   "source": [
    "# Aplicacion del modelo de Regresion Lineal\n",
    "model = LinearRegression()\n",
    "model.fit(X_train, y_train)\n",
    "y_pred = model.predict(X_test)"
   ]
  },
  {
   "cell_type": "code",
   "execution_count": 85,
   "id": "f5e0045b-83d0-496b-9133-3bab96ece10f",
   "metadata": {},
   "outputs": [
    {
     "name": "stdout",
     "output_type": "stream",
     "text": [
      "R²: 0.9735246191841357\n",
      "MAE: 4.44\n",
      "RMSE: 5.71\n"
     ]
    }
   ],
   "source": [
    "# Evaluación de resultados\n",
    "r2 = r2_score(y_test, y_pred)\n",
    "mae = mean_absolute_error(y_test, y_pred)\n",
    "rmse = np.sqrt(mean_squared_error(y_test, y_pred))\n",
    "\n",
    "print(\"R²:\", r2)\n",
    "print(f\"MAE: {mae:.2f}\")\n",
    "print(f\"RMSE: {rmse:.2f}\")"
   ]
  },
  {
   "cell_type": "code",
   "execution_count": 82,
   "id": "b21964cc-1e78-433a-8684-d895c8b1bd3a",
   "metadata": {},
   "outputs": [
    {
     "data": {
      "image/png": "[encoded data removed]",
      "text/plain": [
       "<Figure size 1200x500 with 1 Axes>"
      ]
     },
     "metadata": {},
     "output_type": "display_data"
    }
   ],
   "source": [
    "plt.figure(figsize=(12, 5))\n",
    "plt.plot(y_test.values, label='Real', marker='o')\n",
    "plt.plot(y_pred, label='Predicción', marker='x')\n",
    "plt.title('Precio cierre ajustado: Real vs Predicción')\n",
    "plt.legend()\n",
    "plt.show()"
   ]
  },
  {
   "cell_type": "code",
   "execution_count": 89,
   "id": "4d8cdece-6a72-4d09-b642-4e628bda5784",
   "metadata": {},
   "outputs": [],
   "source": [
    "# Predicciones para cada conjunto, para analizar si existe overfitting y es por eso que el modelo presenta buen desempeño\n",
    "y_train_pred = model.predict(X_train)\n",
    "y_test_pred = model.predict(X_test)"
   ]
  },
  {
   "cell_type": "code",
   "execution_count": 97,
   "id": "c27ec721-1b6c-4c75-86cf-edc516c9e55c",
   "metadata": {},
   "outputs": [],
   "source": [
    "#Metricas para datos de entrenamiento\n",
    "r2_train = r2_score(y_train, y_train_pred)\n",
    "mae_train = mean_squared_error(y_train, y_train_pred)\n",
    "rmse_train = np.sqrt(mse_train)\n",
    "\n",
    "#Metricas para datos de test\n",
    "r2_test = r2_score(y_test, y_test_pred)\n",
    "mae_test = mean_squared_error(y_test, y_test_pred)\n",
    "rmse_test = np.sqrt(mse_test)\n"
   ]
  },
  {
   "cell_type": "code",
   "execution_count": 98,
   "id": "5d1f6f8a-16f3-450b-a7cb-3bbad953eff1",
   "metadata": {},
   "outputs": [
    {
     "name": "stdout",
     "output_type": "stream",
     "text": [
      "Entrenamiento:\n",
      "R²: 0.9946166703263664\n",
      "MAE: 9.904934475801662\n",
      "RMSE: 3.147210586503811\n",
      "\n",
      "Test:\n",
      "R²: 0.9735246191841357\n",
      "MAE: 32.60891124379956\n",
      "RMSE: 5.710421284266124\n"
     ]
    }
   ],
   "source": [
    "print(\"Entrenamiento:\")\n",
    "print(\"R²:\", r2_train)\n",
    "print(\"MAE:\", mae_train)\n",
    "print(\"RMSE:\", rmse_train)\n",
    "\n",
    "print(\"\\nTest:\")\n",
    "print(\"R²:\", r2_test)\n",
    "print(\"MAE:\", mae_test)\n",
    "print(\"RMSE:\", rmse_test)\n"
   ]
  },
  {
   "cell_type": "code",
   "execution_count": 99,
   "id": "9dbc4739-c139-4d10-ba25-eb36bd80dc26",
   "metadata": {},
   "outputs": [],
   "source": [
    "#Dado que en ambos casos el R² es mayor a 0.95 puede concluirse que no hay un overfitting severo y que el modelo generaliza bien.\n",
    "#El MAE y RMSE en test son notablemente más altos que en entrenamiento, lo que sugiere que el modelo podría estar capturando algunos detalles\n",
    "#específicos del train que no se replican igual en el test. Es un leve signo de sobreajuste, pero no afecta al desempeño general del modelo.."
   ]
  }
 ],
 "metadata": {
  "kernelspec": {
   "display_name": "Python 3 (ipykernel)",
   "language": "python",
   "name": "python3"
  },
  "language_info": {
   "codemirror_mode": {
    "name": "ipython",
    "version": 3
   },
   "file_extension": ".py",
   "mimetype": "text/x-python",
   "name": "python",
   "nbconvert_exporter": "python",
   "pygments_lexer": "ipython3",
   "version": "3.13.2"
  }
 },
 "nbformat": 4,
 "nbformat_minor": 5
}
